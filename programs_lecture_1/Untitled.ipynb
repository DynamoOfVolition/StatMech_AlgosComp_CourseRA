{
 "cells": [
  {
   "cell_type": "code",
   "execution_count": null,
   "metadata": {},
   "outputs": [],
   "source": [
    "import random"
   ]
  },
  {
   "cell_type": "code",
   "execution_count": null,
   "metadata": {},
   "outputs": [],
   "source": [
    "neighbor =  [[1, 3, 0, 0], [2, 4, 0, 1], [2, 5, 1, 2],\n",
    "             [4, 6, 3, 0], [5, 7, 3, 1], [5, 8, 4, 2],\n",
    "             [7, 6, 6, 3], [8, 7, 6, 4], [8, 8, 7, 5]]\n",
    "t_max = 4\n",
    "site = 8\n",
    "t = 0\n",
    "print site"
   ]
  },
  {
   "cell_type": "code",
   "execution_count": null,
   "metadata": {},
   "outputs": [],
   "source": [
    "while t < t_max:\n",
    "    t += 1\n",
    "    site = neighbor[site][random.randint(0, 3)]\n",
    "    print site"
   ]
  }
 ],
 "metadata": {
  "kernelspec": {
   "display_name": "Python 3",
   "language": "python",
   "name": "python3"
  },
  "language_info": {
   "codemirror_mode": {
    "name": "ipython",
    "version": 3
   },
   "file_extension": ".py",
   "mimetype": "text/x-python",
   "name": "python",
   "nbconvert_exporter": "python",
   "pygments_lexer": "ipython3",
   "version": "3.7.3"
  }
 },
 "nbformat": 4,
 "nbformat_minor": 4
}
